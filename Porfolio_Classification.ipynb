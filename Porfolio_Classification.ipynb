{
  "nbformat": 4,
  "nbformat_minor": 0,
  "metadata": {
    "colab": {
      "name": "Porfolio_Classification.ipynb",
      "provenance": [],
      "collapsed_sections": []
    },
    "kernelspec": {
      "name": "python3",
      "display_name": "Python 3"
    },
    "language_info": {
      "name": "python"
    },
    "accelerator": "GPU"
  },
  "cells": [
    {
      "cell_type": "code",
      "execution_count": 3,
      "metadata": {
        "id": "5G4mtcPIFIBT"
      },
      "outputs": [],
      "source": [
        "# load dependencies\n",
        "import pandas as pd\n",
        "import numpy as np\n",
        "import matplotlib.pyplot as plt\n",
        "import seaborn as sns\n",
        "from pandas_profiling import ProfileReport\n",
        "from sklearn import preprocessing\n",
        "from sklearn.linear_model import LogisticRegression\n",
        "from sklearn.ensemble import RandomForestClassifier\n",
        "from xgboost import XGBClassifier\n",
        "from sklearn.neighbors import KNeighborsClassifier\n",
        "from sklearn.model_selection import GridSearchCV\n",
        "from sklearn.model_selection import train_test_split\n",
        "from sklearn.metrics import accuracy_score\n",
        "\n",
        "\n",
        "%matplotlib inline"
      ]
    },
    {
      "cell_type": "code",
      "source": [
        "# read in clean database\n",
        "df1 = pd.read_csv(\"clean_diabetes_df.csv\")\n",
        "df1.head(3)"
      ],
      "metadata": {
        "id": "jmOLNc6iGT5y",
        "colab": {
          "base_uri": "https://localhost:8080/",
          "height": 143
        },
        "outputId": "35316965-411c-4bc0-b6f6-3af55de75506"
      },
      "execution_count": 4,
      "outputs": [
        {
          "output_type": "execute_result",
          "data": {
            "text/html": [
              "\n",
              "  <div id=\"df-1b38d18c-0ac0-4c0c-88b0-8f1a6a5e249d\">\n",
              "    <div class=\"colab-df-container\">\n",
              "      <div>\n",
              "<style scoped>\n",
              "    .dataframe tbody tr th:only-of-type {\n",
              "        vertical-align: middle;\n",
              "    }\n",
              "\n",
              "    .dataframe tbody tr th {\n",
              "        vertical-align: top;\n",
              "    }\n",
              "\n",
              "    .dataframe thead th {\n",
              "        text-align: right;\n",
              "    }\n",
              "</style>\n",
              "<table border=\"1\" class=\"dataframe\">\n",
              "  <thead>\n",
              "    <tr style=\"text-align: right;\">\n",
              "      <th></th>\n",
              "      <th>Unnamed: 0</th>\n",
              "      <th>Pregnancies</th>\n",
              "      <th>Glucose</th>\n",
              "      <th>BloodPressure</th>\n",
              "      <th>SkinThickness</th>\n",
              "      <th>Insulin</th>\n",
              "      <th>BMI</th>\n",
              "      <th>DiabetesPedigreeFunction</th>\n",
              "      <th>Age</th>\n",
              "      <th>Outcome</th>\n",
              "    </tr>\n",
              "  </thead>\n",
              "  <tbody>\n",
              "    <tr>\n",
              "      <th>0</th>\n",
              "      <td>0</td>\n",
              "      <td>6.0</td>\n",
              "      <td>148.0</td>\n",
              "      <td>72.0</td>\n",
              "      <td>35</td>\n",
              "      <td>39.0</td>\n",
              "      <td>33.6</td>\n",
              "      <td>0.627</td>\n",
              "      <td>50</td>\n",
              "      <td>1</td>\n",
              "    </tr>\n",
              "    <tr>\n",
              "      <th>1</th>\n",
              "      <td>2</td>\n",
              "      <td>8.0</td>\n",
              "      <td>183.0</td>\n",
              "      <td>64.0</td>\n",
              "      <td>27</td>\n",
              "      <td>39.0</td>\n",
              "      <td>23.3</td>\n",
              "      <td>0.672</td>\n",
              "      <td>32</td>\n",
              "      <td>1</td>\n",
              "    </tr>\n",
              "    <tr>\n",
              "      <th>2</th>\n",
              "      <td>4</td>\n",
              "      <td>0.0</td>\n",
              "      <td>137.0</td>\n",
              "      <td>40.0</td>\n",
              "      <td>35</td>\n",
              "      <td>168.0</td>\n",
              "      <td>43.1</td>\n",
              "      <td>2.288</td>\n",
              "      <td>33</td>\n",
              "      <td>1</td>\n",
              "    </tr>\n",
              "  </tbody>\n",
              "</table>\n",
              "</div>\n",
              "      <button class=\"colab-df-convert\" onclick=\"convertToInteractive('df-1b38d18c-0ac0-4c0c-88b0-8f1a6a5e249d')\"\n",
              "              title=\"Convert this dataframe to an interactive table.\"\n",
              "              style=\"display:none;\">\n",
              "        \n",
              "  <svg xmlns=\"http://www.w3.org/2000/svg\" height=\"24px\"viewBox=\"0 0 24 24\"\n",
              "       width=\"24px\">\n",
              "    <path d=\"M0 0h24v24H0V0z\" fill=\"none\"/>\n",
              "    <path d=\"M18.56 5.44l.94 2.06.94-2.06 2.06-.94-2.06-.94-.94-2.06-.94 2.06-2.06.94zm-11 1L8.5 8.5l.94-2.06 2.06-.94-2.06-.94L8.5 2.5l-.94 2.06-2.06.94zm10 10l.94 2.06.94-2.06 2.06-.94-2.06-.94-.94-2.06-.94 2.06-2.06.94z\"/><path d=\"M17.41 7.96l-1.37-1.37c-.4-.4-.92-.59-1.43-.59-.52 0-1.04.2-1.43.59L10.3 9.45l-7.72 7.72c-.78.78-.78 2.05 0 2.83L4 21.41c.39.39.9.59 1.41.59.51 0 1.02-.2 1.41-.59l7.78-7.78 2.81-2.81c.8-.78.8-2.07 0-2.86zM5.41 20L4 18.59l7.72-7.72 1.47 1.35L5.41 20z\"/>\n",
              "  </svg>\n",
              "      </button>\n",
              "      \n",
              "  <style>\n",
              "    .colab-df-container {\n",
              "      display:flex;\n",
              "      flex-wrap:wrap;\n",
              "      gap: 12px;\n",
              "    }\n",
              "\n",
              "    .colab-df-convert {\n",
              "      background-color: #E8F0FE;\n",
              "      border: none;\n",
              "      border-radius: 50%;\n",
              "      cursor: pointer;\n",
              "      display: none;\n",
              "      fill: #1967D2;\n",
              "      height: 32px;\n",
              "      padding: 0 0 0 0;\n",
              "      width: 32px;\n",
              "    }\n",
              "\n",
              "    .colab-df-convert:hover {\n",
              "      background-color: #E2EBFA;\n",
              "      box-shadow: 0px 1px 2px rgba(60, 64, 67, 0.3), 0px 1px 3px 1px rgba(60, 64, 67, 0.15);\n",
              "      fill: #174EA6;\n",
              "    }\n",
              "\n",
              "    [theme=dark] .colab-df-convert {\n",
              "      background-color: #3B4455;\n",
              "      fill: #D2E3FC;\n",
              "    }\n",
              "\n",
              "    [theme=dark] .colab-df-convert:hover {\n",
              "      background-color: #434B5C;\n",
              "      box-shadow: 0px 1px 3px 1px rgba(0, 0, 0, 0.15);\n",
              "      filter: drop-shadow(0px 1px 2px rgba(0, 0, 0, 0.3));\n",
              "      fill: #FFFFFF;\n",
              "    }\n",
              "  </style>\n",
              "\n",
              "      <script>\n",
              "        const buttonEl =\n",
              "          document.querySelector('#df-1b38d18c-0ac0-4c0c-88b0-8f1a6a5e249d button.colab-df-convert');\n",
              "        buttonEl.style.display =\n",
              "          google.colab.kernel.accessAllowed ? 'block' : 'none';\n",
              "\n",
              "        async function convertToInteractive(key) {\n",
              "          const element = document.querySelector('#df-1b38d18c-0ac0-4c0c-88b0-8f1a6a5e249d');\n",
              "          const dataTable =\n",
              "            await google.colab.kernel.invokeFunction('convertToInteractive',\n",
              "                                                     [key], {});\n",
              "          if (!dataTable) return;\n",
              "\n",
              "          const docLinkHtml = 'Like what you see? Visit the ' +\n",
              "            '<a target=\"_blank\" href=https://colab.research.google.com/notebooks/data_table.ipynb>data table notebook</a>'\n",
              "            + ' to learn more about interactive tables.';\n",
              "          element.innerHTML = '';\n",
              "          dataTable['output_type'] = 'display_data';\n",
              "          await google.colab.output.renderOutput(dataTable, element);\n",
              "          const docLink = document.createElement('div');\n",
              "          docLink.innerHTML = docLinkHtml;\n",
              "          element.appendChild(docLink);\n",
              "        }\n",
              "      </script>\n",
              "    </div>\n",
              "  </div>\n",
              "  "
            ],
            "text/plain": [
              "   Unnamed: 0  Pregnancies  Glucose  ...  DiabetesPedigreeFunction  Age  Outcome\n",
              "0           0          6.0    148.0  ...                     0.627   50        1\n",
              "1           2          8.0    183.0  ...                     0.672   32        1\n",
              "2           4          0.0    137.0  ...                     2.288   33        1\n",
              "\n",
              "[3 rows x 10 columns]"
            ]
          },
          "metadata": {},
          "execution_count": 4
        }
      ]
    },
    {
      "cell_type": "code",
      "source": [
        "# split data into dependent and independent variables\n",
        "X = df1.drop(['Outcome', 'Unnamed: 0'], axis=1)\n",
        "y = df1['Outcome']"
      ],
      "metadata": {
        "id": "lQSyv_vgKPPw"
      },
      "execution_count": 5,
      "outputs": []
    },
    {
      "cell_type": "code",
      "source": [
        "# check class balance in dependent class\n",
        "sns.countplot('Outcome',data=df1)"
      ],
      "metadata": {
        "colab": {
          "base_uri": "https://localhost:8080/",
          "height": 351
        },
        "id": "ERqASHBJKPb-",
        "outputId": "69f417b8-2d7d-49f7-dcdf-0fc265cd0556"
      },
      "execution_count": 6,
      "outputs": [
        {
          "output_type": "stream",
          "name": "stderr",
          "text": [
            "/usr/local/lib/python3.7/dist-packages/seaborn/_decorators.py:43: FutureWarning: Pass the following variable as a keyword arg: x. From version 0.12, the only valid positional argument will be `data`, and passing other arguments without an explicit keyword will result in an error or misinterpretation.\n",
            "  FutureWarning\n"
          ]
        },
        {
          "output_type": "execute_result",
          "data": {
            "text/plain": [
              "<matplotlib.axes._subplots.AxesSubplot at 0x7f6ff61c10d0>"
            ]
          },
          "metadata": {},
          "execution_count": 6
        },
        {
          "output_type": "display_data",
          "data": {
            "image/png": "[encoded data removed]",
            "text/plain": [
              "<Figure size 432x288 with 1 Axes>"
            ]
          },
          "metadata": {
            "needs_background": "light"
          }
        }
      ]
    },
    {
      "cell_type": "code",
      "source": [
        "# plot correlation map prior to adjustment\n",
        "plt.figure(dpi = 125,figsize= (5,4))\n",
        "mask = np.triu(df1.corr())\n",
        "#np.triu returns lower triangle for our heatmap as we do not need upper map\n",
        "sns.heatmap(df1.corr(),mask = mask, fmt = \".1f\",annot=True,lw=0.1,cmap = 'YlGnBu')\n",
        "plt.title('Correlation Map')\n",
        "plt.show()"
      ],
      "metadata": {
        "colab": {
          "base_uri": "https://localhost:8080/",
          "height": 686
        },
        "id": "DbkKOu8qV7nn",
        "outputId": "9021ecff-092b-4097-afc5-f2a6d7fa6198"
      },
      "execution_count": 7,
      "outputs": [
        {
          "output_type": "display_data",
          "data": {
            "image/png": "[encoded data removed]",
            "text/plain": [
              "<Figure size 625x500 with 2 Axes>"
            ]
          },
          "metadata": {
            "needs_background": "light"
          }
        }
      ]
    },
    {
      "cell_type": "code",
      "source": [
        "# split data into training and testing sets, stratify to preserve the proportion of target as in original dataset \n",
        "X_train, X_test, y_train, y_test = train_test_split(X , y, test_size=0.2, random_state=42, stratify=y)"
      ],
      "metadata": {
        "id": "zG-bD3cf46Sc"
      },
      "execution_count": 8,
      "outputs": []
    },
    {
      "cell_type": "code",
      "source": [
        "# training data using Logistic Regression Classifier\n",
        "# https://www.analyticsvidhya.com/blog/2020/10/improve-class-imbalance-class-weights/\n",
        "# Weights associated with classes in the form {class_label: weight}\n",
        "lr_clf = LogisticRegression(random_state=42, class_weight={0:0.33, 1:0.67})\n",
        "lr_clf.fit(X_train, y_train)\n",
        "print('Accuracy of logistic regression classifier on test set: {:.2f}'.format(lr_clf.score(X_test, y_test)))"
      ],
      "metadata": {
        "colab": {
          "base_uri": "https://localhost:8080/"
        },
        "id": "_Tye5YocB2CV",
        "outputId": "873da535-3d3c-4468-95d0-78fea506de63"
      },
      "execution_count": 9,
      "outputs": [
        {
          "output_type": "stream",
          "name": "stdout",
          "text": [
            "Accuracy of logistic regression classifier on test set: 0.73\n"
          ]
        },
        {
          "output_type": "stream",
          "name": "stderr",
          "text": [
            "/usr/local/lib/python3.7/dist-packages/sklearn/linear_model/_logistic.py:818: ConvergenceWarning: lbfgs failed to converge (status=1):\n",
            "STOP: TOTAL NO. of ITERATIONS REACHED LIMIT.\n",
            "\n",
            "Increase the number of iterations (max_iter) or scale the data as shown in:\n",
            "    https://scikit-learn.org/stable/modules/preprocessing.html\n",
            "Please also refer to the documentation for alternative solver options:\n",
            "    https://scikit-learn.org/stable/modules/linear_model.html#logistic-regression\n",
            "  extra_warning_msg=_LOGISTIC_SOLVER_CONVERGENCE_MSG,\n"
          ]
        }
      ]
    },
    {
      "cell_type": "code",
      "source": [
        "# training data using Random Forest Classifier\n",
        "rf_clf = RandomForestClassifier()\n",
        "rf_clf.fit(X_train, y_train)\n",
        "rf_pred = rf_clf.predict(X_test)\n",
        "print('Accuracy of random forest classifier on test set: {:.2f}'.format(rf_clf.score(X_test, y_test)))"
      ],
      "metadata": {
        "colab": {
          "base_uri": "https://localhost:8080/"
        },
        "id": "7ItG95w546tr",
        "outputId": "e3c46806-5c29-444d-ed77-8bb1de19f27d"
      },
      "execution_count": 10,
      "outputs": [
        {
          "output_type": "stream",
          "name": "stdout",
          "text": [
            "Accuracy of random forest classifier on test set: 0.82\n"
          ]
        }
      ]
    },
    {
      "cell_type": "code",
      "source": [
        "# training data using XGBClassifier\n",
        "XGB_clf = XGBClassifier(learning_rate=0.007)\n",
        "XGB_clf.fit(X_train, y_train)\n",
        "XGB_pred = XGB_clf.predict(X_test)\n",
        "print('Accuracy of XGB classifier on test set: {:.2f}'.format(XGB_clf.score(X_test, y_test)))"
      ],
      "metadata": {
        "colab": {
          "base_uri": "https://localhost:8080/"
        },
        "id": "9j_P0R8h461L",
        "outputId": "0b0cb507-6f1f-4c86-e89f-4940c0644490"
      },
      "execution_count": 11,
      "outputs": [
        {
          "output_type": "stream",
          "name": "stdout",
          "text": [
            "Accuracy of XGB classifier on test set: 0.81\n"
          ]
        }
      ]
    },
    {
      "cell_type": "code",
      "source": [
        "# training data using kNN\n",
        "knn_clf = KNeighborsClassifier()\n",
        "knn_clf.fit(X_train, y_train)\n",
        "knn_pred = knn_clf.predict(X_test)\n",
        "print('Accuracy of kNN classifier on test set: {:.2f}'.format(knn_clf.score(X_test, y_test)))"
      ],
      "metadata": {
        "colab": {
          "base_uri": "https://localhost:8080/"
        },
        "id": "4K7vCZ_F464c",
        "outputId": "387d8602-6fb9-4ab2-d1fd-f753ea89abf4"
      },
      "execution_count": 12,
      "outputs": [
        {
          "output_type": "stream",
          "name": "stdout",
          "text": [
            "Accuracy of kNN classifier on test set: 0.70\n"
          ]
        }
      ]
    },
    {
      "cell_type": "markdown",
      "source": [
        "**Another route to try which is using SMOTE to sample up the minority.**"
      ],
      "metadata": {
        "id": "7xu4zTs9sUyO"
      }
    },
    {
      "cell_type": "code",
      "source": [
        "# now we re-sample to make a balanced outcome\n",
        "from imblearn.over_sampling import SMOTE\n",
        "sm = SMOTE(random_state=42)\n",
        "\n",
        "# only re-sample the training data, nothing should be done to the validation data\n",
        "X_sm , y_sm = sm.fit_resample(X_train, y_train)"
      ],
      "metadata": {
        "id": "45Pm9fdNaL5w"
      },
      "execution_count": 13,
      "outputs": []
    },
    {
      "cell_type": "code",
      "source": [
        "# check data balance\n",
        "np.bincount(y_sm)"
      ],
      "metadata": {
        "id": "Jd1YjDOOeKC9",
        "colab": {
          "base_uri": "https://localhost:8080/"
        },
        "outputId": "01e673eb-77f9-4648-fd21-64b7556be69a"
      },
      "execution_count": 14,
      "outputs": [
        {
          "output_type": "execute_result",
          "data": {
            "text/plain": [
              "array([400, 400])"
            ]
          },
          "metadata": {},
          "execution_count": 14
        }
      ]
    },
    {
      "cell_type": "code",
      "source": [
        "# training data using Logistic Regression\n",
        "lr_clf2 = LogisticRegression()\n",
        "lr_clf2.fit(X_sm, y_sm)\n",
        "y_pred = lr_clf2.predict(X_test)\n",
        "print('Accuracy of logistic regression classifier on test set: {:.2f}'.format(lr_clf2.score(X_test, y_test)))"
      ],
      "metadata": {
        "id": "480lbwEKa-zP",
        "colab": {
          "base_uri": "https://localhost:8080/"
        },
        "outputId": "79c698a2-1ba2-45fc-f14b-4ecf31850696"
      },
      "execution_count": 15,
      "outputs": [
        {
          "output_type": "stream",
          "name": "stdout",
          "text": [
            "Accuracy of logistic regression classifier on test set: 0.73\n"
          ]
        },
        {
          "output_type": "stream",
          "name": "stderr",
          "text": [
            "/usr/local/lib/python3.7/dist-packages/sklearn/linear_model/_logistic.py:818: ConvergenceWarning: lbfgs failed to converge (status=1):\n",
            "STOP: TOTAL NO. of ITERATIONS REACHED LIMIT.\n",
            "\n",
            "Increase the number of iterations (max_iter) or scale the data as shown in:\n",
            "    https://scikit-learn.org/stable/modules/preprocessing.html\n",
            "Please also refer to the documentation for alternative solver options:\n",
            "    https://scikit-learn.org/stable/modules/linear_model.html#logistic-regression\n",
            "  extra_warning_msg=_LOGISTIC_SOLVER_CONVERGENCE_MSG,\n"
          ]
        }
      ]
    },
    {
      "cell_type": "code",
      "source": [
        "# training data using Random Forest Classifier\n",
        "rf_clf2 = RandomForestClassifier()\n",
        "rf_clf2.fit(X_sm, y_sm)\n",
        "rf_pred = rf_clf2.predict(X_test)\n",
        "print('Accuracy of random forest classifier on test set: {:.2f}'.format(rf_clf2.score(X_test, y_test)))"
      ],
      "metadata": {
        "id": "upph-xoGTwmo",
        "colab": {
          "base_uri": "https://localhost:8080/"
        },
        "outputId": "b2bfb008-a806-4a3e-b597-f90f4fdc8e3e"
      },
      "execution_count": 16,
      "outputs": [
        {
          "output_type": "stream",
          "name": "stdout",
          "text": [
            "Accuracy of random forest classifier on test set: 0.82\n"
          ]
        }
      ]
    },
    {
      "cell_type": "code",
      "source": [
        "# training data using XGBClassifier\n",
        "XGB_clf2 = XGBClassifier(learning_rate=0.007)\n",
        "XGB_clf2.fit(X_sm, y_sm)\n",
        "XGB_pred = XGB_clf2.predict(X_test)\n",
        "print('Accuracy of XGB classifier on test set: {:.2f}'.format(XGB_clf2.score(X_test, y_test)))"
      ],
      "metadata": {
        "id": "Gy8cEEoayNb1",
        "colab": {
          "base_uri": "https://localhost:8080/"
        },
        "outputId": "98d904f6-99a4-471b-b89f-2cf4fa758598"
      },
      "execution_count": 17,
      "outputs": [
        {
          "output_type": "stream",
          "name": "stdout",
          "text": [
            "Accuracy of XGB classifier on test set: 0.77\n"
          ]
        }
      ]
    },
    {
      "cell_type": "code",
      "source": [
        "# training data using kNN\n",
        "knn_clf2 = KNeighborsClassifier()\n",
        "knn_clf2.fit(X_sm, y_sm)\n",
        "knn_pred = knn_clf2.predict(X_test)\n",
        "print('Accuracy of kNN classifier on test set: {:.2f}'.format(knn_clf2.score(X_test, y_test)))"
      ],
      "metadata": {
        "id": "RskM47qxyNiX",
        "colab": {
          "base_uri": "https://localhost:8080/"
        },
        "outputId": "bc9f6ce5-af6f-46b9-eca8-379c41d97228"
      },
      "execution_count": 18,
      "outputs": [
        {
          "output_type": "stream",
          "name": "stdout",
          "text": [
            "Accuracy of kNN classifier on test set: 0.70\n"
          ]
        }
      ]
    },
    {
      "cell_type": "markdown",
      "source": [
        "**Hyperparameters Tuning for Random Forest Classifier**"
      ],
      "metadata": {
        "id": "mH7hQ0GGved0"
      }
    },
    {
      "cell_type": "code",
      "source": [
        "# RandomTreeClassifier hyperparameter tuning by using GridSearchCV\n",
        "%%time\n",
        "forest = RandomForestClassifier()\n",
        "\n",
        "# Create the grid parameter:\n",
        "grid_rf = {'n_estimators': [100, 120, 150],\n",
        "           'criterion': ['entropy', 'gini'], \n",
        "           'max_depth': [None,1,3,5,7,9],\n",
        "           'max_features': range(1,11),  \n",
        "           'min_samples_split': range(2, 10),\n",
        "\t\t\t\t\t 'min_samples_leaf': [1,3,5]}\n",
        "\n",
        "# create the grid instance\n",
        "gs_rf = GridSearchCV(forest, grid_rf, cv=3, n_jobs=-1)\n",
        "\n",
        "# fit using grid search\n",
        "gs_rf.fit(X_sm, y_sm)\n",
        "\n",
        "# print best accuracy and best parameters:\n",
        "print('Best accuracy: %.3f' % gs_rf.best_score_)\n",
        "print('\\nBest params:\\n', gs_rf.best_params_)"
      ],
      "metadata": {
        "id": "3YaE2D-tl_Ob",
        "colab": {
          "base_uri": "https://localhost:8080/"
        },
        "outputId": "1839b7dd-a23d-4adb-888f-a8cde7cba2e2"
      },
      "execution_count": 19,
      "outputs": [
        {
          "output_type": "stream",
          "name": "stderr",
          "text": [
            "/usr/local/lib/python3.7/dist-packages/sklearn/model_selection/_validation.py:372: FitFailedWarning: \n",
            "5184 fits failed out of a total of 25920.\n",
            "The score on these train-test partitions for these parameters will be set to nan.\n",
            "If these failures are not expected, you can try to debug them by setting error_score='raise'.\n",
            "\n",
            "Below are more details about the failures:\n",
            "--------------------------------------------------------------------------------\n",
            "5184 fits failed with the following error:\n",
            "Traceback (most recent call last):\n",
            "  File \"/usr/local/lib/python3.7/dist-packages/sklearn/model_selection/_validation.py\", line 680, in _fit_and_score\n",
            "    estimator.fit(X_train, y_train, **fit_params)\n",
            "  File \"/usr/local/lib/python3.7/dist-packages/sklearn/ensemble/_forest.py\", line 467, in fit\n",
            "    for i, t in enumerate(trees)\n",
            "  File \"/usr/local/lib/python3.7/dist-packages/joblib/parallel.py\", line 1043, in __call__\n",
            "    if self.dispatch_one_batch(iterator):\n",
            "  File \"/usr/local/lib/python3.7/dist-packages/joblib/parallel.py\", line 861, in dispatch_one_batch\n",
            "    self._dispatch(tasks)\n",
            "  File \"/usr/local/lib/python3.7/dist-packages/joblib/parallel.py\", line 779, in _dispatch\n",
            "    job = self._backend.apply_async(batch, callback=cb)\n",
            "  File \"/usr/local/lib/python3.7/dist-packages/joblib/_parallel_backends.py\", line 208, in apply_async\n",
            "    result = ImmediateResult(func)\n",
            "  File \"/usr/local/lib/python3.7/dist-packages/joblib/_parallel_backends.py\", line 572, in __init__\n",
            "    self.results = batch()\n",
            "  File \"/usr/local/lib/python3.7/dist-packages/joblib/parallel.py\", line 263, in __call__\n",
            "    for func, args, kwargs in self.items]\n",
            "  File \"/usr/local/lib/python3.7/dist-packages/joblib/parallel.py\", line 263, in <listcomp>\n",
            "    for func, args, kwargs in self.items]\n",
            "  File \"/usr/local/lib/python3.7/dist-packages/sklearn/utils/fixes.py\", line 216, in __call__\n",
            "    return self.function(*args, **kwargs)\n",
            "  File \"/usr/local/lib/python3.7/dist-packages/sklearn/ensemble/_forest.py\", line 185, in _parallel_build_trees\n",
            "    tree.fit(X, y, sample_weight=curr_sample_weight, check_input=False)\n",
            "  File \"/usr/local/lib/python3.7/dist-packages/sklearn/tree/_classes.py\", line 942, in fit\n",
            "    X_idx_sorted=X_idx_sorted,\n",
            "  File \"/usr/local/lib/python3.7/dist-packages/sklearn/tree/_classes.py\", line 308, in fit\n",
            "    raise ValueError(\"max_features must be in (0, n_features]\")\n",
            "ValueError: max_features must be in (0, n_features]\n",
            "\n",
            "  warnings.warn(some_fits_failed_message, FitFailedWarning)\n",
            "/usr/local/lib/python3.7/dist-packages/sklearn/model_selection/_search.py:972: UserWarning: One or more of the test scores are non-finite: [0.86506059 0.86878244 0.86252147 ...        nan        nan        nan]\n",
            "  category=UserWarning,\n"
          ]
        },
        {
          "output_type": "stream",
          "name": "stdout",
          "text": [
            "Best accuracy: 0.869\n",
            "\n",
            "Best params:\n",
            " {'criterion': 'entropy', 'max_depth': None, 'max_features': 1, 'min_samples_leaf': 1, 'min_samples_split': 2, 'n_estimators': 120}\n",
            "CPU times: user 3min 1s, sys: 9.6 s, total: 3min 11s\n",
            "Wall time: 1h 28min\n"
          ]
        }
      ]
    },
    {
      "cell_type": "code",
      "source": [
        "# training data using Random Forest Classifier\n",
        "rf_clf3 = RandomForestClassifier(n_estimators=120,\n",
        "                                 criterion='entropy', \n",
        "                                 max_depth=None,\n",
        "                                 min_samples_split=2,\n",
        "                                 min_samples_leaf=1, \n",
        "                                 max_features=1, \n",
        "                                 random_state=42,\n",
        "                                 )\n",
        "rf_clf3.fit(X_sm, y_sm)\n",
        "rf_pred = rf_clf3.predict(X_test)\n",
        "print('Accuracy of random forest classifier on test set: {:.2f}'.format(rf_clf3.score(X_test, y_test)))"
      ],
      "metadata": {
        "colab": {
          "base_uri": "https://localhost:8080/"
        },
        "id": "G03vlCHQNL40",
        "outputId": "e6c5e30a-2a1d-4177-f09f-1b499a3ecbf4"
      },
      "execution_count": 24,
      "outputs": [
        {
          "output_type": "stream",
          "name": "stdout",
          "text": [
            "Accuracy of random forest classifier on test set: 0.82\n"
          ]
        }
      ]
    },
    {
      "cell_type": "code",
      "source": [
        "# time to get the pickle\n",
        "import pickle\n",
        "pickle.dump(rf_clf3, open(\"model.pkl\", \"wb\"))\n",
        "# pickl = {'model': rf_clf}\n",
        "# pickle.dump(pickl, open( 'model_file' + \".pkl\", \"wb\" ))"
      ],
      "metadata": {
        "id": "I-yMxHyXyFTy"
      },
      "execution_count": 25,
      "outputs": []
    },
    {
      "cell_type": "code",
      "source": [
        ""
      ],
      "metadata": {
        "id": "fOaIF3BHQUy6"
      },
      "execution_count": null,
      "outputs": []
    }
  ]
}